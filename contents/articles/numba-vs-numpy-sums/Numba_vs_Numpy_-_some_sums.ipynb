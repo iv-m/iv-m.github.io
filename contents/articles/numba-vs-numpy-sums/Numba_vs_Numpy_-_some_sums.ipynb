{
 "cells": [
  {
   "cell_type": "markdown",
   "metadata": {
    "slideshow": {
     "slide_type": "slide"
    }
   },
   "source": [
    "# Numba vs Numpy - some sums"
   ]
  },
  {
   "cell_type": "markdown",
   "metadata": {},
   "source": [
    "[Numba] is open-source optimizing compiler for Python. It seems work like magic: just add a simple decorator to your pure-python function, and it immediately becomes 200 times faster -- at least, so claims the [Wikipedia article about Numba]. Even this is hard to believe, but Wikipedia goes further and claims that a vary naive implementation of a sum of a numpy array is 30% faster then `numpy.sum`. Somehow, I would expect that `numpy.sum` is as optimized as it can be, so this claim sounds even more ambitious. Let's check this with some benchmarks!\n",
    "\n",
    "[Numba]: http://numba.pydata.org/\n",
    "[Wikipedia article about Numba]: https://en.wikipedia.org/w/index.php?title=Numba&oldid=831668946"
   ]
  },
  {
   "cell_type": "markdown",
   "metadata": {
    "slideshow": {
     "slide_type": "slide"
    }
   },
   "source": [
    "##  System setup\n",
    "\n",
    "As usual, I'm working on my Lenovo T440p laptop running AltLinux. It has mobile Haswell processor with 2 cores and 4 hardware threads. To make benchmarks more reproducible, I've disabled TurboBoost and locked scaling to almost 2 GHz (~1995)."
   ]
  },
  {
   "cell_type": "code",
   "execution_count": 1,
   "metadata": {},
   "outputs": [
    {
     "name": "stdout",
     "output_type": "stream",
     "text": [
      "Linux imelnikov.localdomain 4.14.24-un-def-alt0.M80P.1 #1 SMP PREEMPT Tue Mar 6 15:00:33 UTC 2018 x86_64 GNU/Linux\n"
     ]
    }
   ],
   "source": [
    "%%sh\n",
    "uname -a"
   ]
  },
  {
   "cell_type": "code",
   "execution_count": 2,
   "metadata": {},
   "outputs": [
    {
     "name": "stdout",
     "output_type": "stream",
     "text": [
      "model name\t: Intel(R) Core(TM) i5-4300M CPU @ 2.60GHz\n",
      "cpu MHz\t\t: 1995.544\n",
      "model name\t: Intel(R) Core(TM) i5-4300M CPU @ 2.60GHz\n",
      "cpu MHz\t\t: 1995.545\n",
      "model name\t: Intel(R) Core(TM) i5-4300M CPU @ 2.60GHz\n",
      "cpu MHz\t\t: 1995.545\n",
      "model name\t: Intel(R) Core(TM) i5-4300M CPU @ 2.60GHz\n",
      "cpu MHz\t\t: 1995.543\n"
     ]
    }
   ],
   "source": [
    "%%sh\n",
    "cat /proc/cpuinfo | egrep '^model name|Hz'"
   ]
  },
  {
   "cell_type": "markdown",
   "metadata": {
    "slideshow": {
     "slide_type": "slide"
    }
   },
   "source": [
    "Let's import some modules and check the versions:"
   ]
  },
  {
   "cell_type": "code",
   "execution_count": 3,
   "metadata": {},
   "outputs": [],
   "source": [
    "import sys\n",
    "import numba\n",
    "import numpy as np\n",
    "import matplotlib.pyplot as plt\n",
    "plt.style.use('ggplot')"
   ]
  },
  {
   "cell_type": "code",
   "execution_count": 4,
   "metadata": {},
   "outputs": [
    {
     "name": "stdout",
     "output_type": "stream",
     "text": [
      "python version: 3.6.4 |Anaconda custom (64-bit)| (default, Jan 16 2018, 18:10:19) [GCC 7.2.0]\n",
      "numpy version: 1.14.0\n",
      "numba version: 0.36.2\n"
     ]
    }
   ],
   "source": [
    "print(\"python version:\", ''.join(sys.version.splitlines()))\n",
    "print(\"numpy version:\", np.__version__)\n",
    "print(\"numba version:\", numba.__version__)"
   ]
  },
  {
   "cell_type": "code",
   "execution_count": 5,
   "metadata": {},
   "outputs": [],
   "source": [
    "np.random.seed(42)"
   ]
  },
  {
   "cell_type": "markdown",
   "metadata": {
    "slideshow": {
     "slide_type": "slide"
    }
   },
   "source": [
    "## System under test\n",
    "\n",
    "Here is the code from Wikipedia:"
   ]
  },
  {
   "cell_type": "code",
   "execution_count": 6,
   "metadata": {},
   "outputs": [],
   "source": [
    "def sum1d(my_double_array):\n",
    "    total = 0.0\n",
    "    for i in range(my_double_array.shape[0]):\n",
    "        total += my_double_array[i]\n",
    "    return total"
   ]
  },
  {
   "cell_type": "markdown",
   "metadata": {},
   "source": [
    "Numba's `jit` is intended to be used as decorator, but we're going to call it explicitly to make sure we run the same code with and without jit:"
   ]
  },
  {
   "cell_type": "code",
   "execution_count": 7,
   "metadata": {},
   "outputs": [],
   "source": [
    "sum1d_jit = numba.jit(nopython=True)(sum1d)"
   ]
  },
  {
   "cell_type": "code",
   "execution_count": 8,
   "metadata": {},
   "outputs": [
    {
     "data": {
      "text/plain": [
       "CPUDispatcher(<function sum1d at 0x7fb4eee77158>)"
      ]
     },
     "execution_count": 8,
     "metadata": {},
     "output_type": "execute_result"
    }
   ],
   "source": [
    "sum1d_jit"
   ]
  },
  {
   "cell_type": "markdown",
   "metadata": {
    "slideshow": {
     "slide_type": "slide"
    }
   },
   "source": [
    "We'll also check if parallelization will make any difference for us:"
   ]
  },
  {
   "cell_type": "code",
   "execution_count": 9,
   "metadata": {},
   "outputs": [],
   "source": [
    "sum1d_par = numba.jit(nopython=True, parallel=True)(sum1d)"
   ]
  },
  {
   "cell_type": "markdown",
   "metadata": {
    "slideshow": {
     "slide_type": "slide"
    }
   },
   "source": [
    "Let's run a quick test to make sure we've done everything correctly, and to force numba to compile `float64` version of our `sum1d`:"
   ]
  },
  {
   "cell_type": "code",
   "execution_count": 10,
   "metadata": {},
   "outputs": [],
   "source": [
    "sample_data = np.random.randn(42)"
   ]
  },
  {
   "cell_type": "code",
   "execution_count": 11,
   "metadata": {},
   "outputs": [
    {
     "data": {
      "text/plain": [
       "(-7.835638675532193,\n",
       " -7.835638675532193,\n",
       " -7.835638675532193,\n",
       " -7.835638675532195)"
      ]
     },
     "execution_count": 11,
     "metadata": {},
     "output_type": "execute_result"
    }
   ],
   "source": [
    "sum1d(sample_data), sum1d_jit(sample_data), sum1d_par(sample_data), np.sum(sample_data)"
   ]
  },
  {
   "cell_type": "markdown",
   "metadata": {},
   "source": [
    "It's interesting: naive python version and jitted version return the same number exactly, but `numpy.sum` apparently calculates things in a bit differntly."
   ]
  },
  {
   "cell_type": "markdown",
   "metadata": {
    "slideshow": {
     "slide_type": "slide"
    }
   },
   "source": [
    "## Measurements"
   ]
  },
  {
   "cell_type": "markdown",
   "metadata": {},
   "source": [
    "We'll make a few runs for various array sizes:"
   ]
  },
  {
   "cell_type": "code",
   "execution_count": 12,
   "metadata": {},
   "outputs": [],
   "source": [
    "measures = 13\n",
    "sizes = 4 ** np.arange(measures)"
   ]
  },
  {
   "cell_type": "markdown",
   "metadata": {},
   "source": [
    "We'll save the average runtime here:"
   ]
  },
  {
   "cell_type": "code",
   "execution_count": 13,
   "metadata": {},
   "outputs": [],
   "source": [
    "res_numpy = np.zeros(measures)\n",
    "res_python = np.zeros(measures)\n",
    "res_numba = np.zeros(measures)\n",
    "res_numba_par = np.zeros(measures)"
   ]
  },
  {
   "cell_type": "markdown",
   "metadata": {
    "slideshow": {
     "slide_type": "slide"
    }
   },
   "source": [
    "It's time to measures all the things! This will take a few minutes:"
   ]
  },
  {
   "cell_type": "code",
   "execution_count": 14,
   "metadata": {
    "scrolled": true
   },
   "outputs": [
    {
     "name": "stdout",
     "output_type": "stream",
     "text": [
      "size = 1\n",
      "5.53 µs ± 298 ns per loop (mean ± std. dev. of 7 runs, 100000 loops each)\n",
      "1.04 µs ± 93.7 ns per loop (mean ± std. dev. of 7 runs, 1000000 loops each)\n",
      "448 ns ± 8.96 ns per loop (mean ± std. dev. of 7 runs, 1000000 loops each)\n",
      "469 ns ± 19.5 ns per loop (mean ± std. dev. of 7 runs, 1000000 loops each)\n",
      "size = 4\n",
      "4.07 µs ± 182 ns per loop (mean ± std. dev. of 7 runs, 100000 loops each)\n",
      "1.6 µs ± 26.5 ns per loop (mean ± std. dev. of 7 runs, 1000000 loops each)\n",
      "473 ns ± 6.14 ns per loop (mean ± std. dev. of 7 runs, 1000000 loops each)\n",
      "453 ns ± 6.65 ns per loop (mean ± std. dev. of 7 runs, 1000000 loops each)\n",
      "size = 16\n",
      "4.17 µs ± 205 ns per loop (mean ± std. dev. of 7 runs, 100000 loops each)\n",
      "4.35 µs ± 172 ns per loop (mean ± std. dev. of 7 runs, 100000 loops each)\n",
      "526 ns ± 77.8 ns per loop (mean ± std. dev. of 7 runs, 1000000 loops each)\n",
      "585 ns ± 26 ns per loop (mean ± std. dev. of 7 runs, 1000000 loops each)\n",
      "size = 64\n",
      "4.54 µs ± 418 ns per loop (mean ± std. dev. of 7 runs, 100000 loops each)\n",
      "16.6 µs ± 2.29 µs per loop (mean ± std. dev. of 7 runs, 100000 loops each)\n",
      "678 ns ± 46.8 ns per loop (mean ± std. dev. of 7 runs, 1000000 loops each)\n",
      "676 ns ± 22.4 ns per loop (mean ± std. dev. of 7 runs, 1000000 loops each)\n",
      "size = 256\n",
      "5.89 µs ± 401 ns per loop (mean ± std. dev. of 7 runs, 100000 loops each)\n",
      "75.3 µs ± 1.61 µs per loop (mean ± std. dev. of 7 runs, 10000 loops each)\n",
      "1.02 µs ± 35.7 ns per loop (mean ± std. dev. of 7 runs, 1000000 loops each)\n",
      "958 ns ± 14.4 ns per loop (mean ± std. dev. of 7 runs, 1000000 loops each)\n",
      "size = 1024\n",
      "6.33 µs ± 228 ns per loop (mean ± std. dev. of 7 runs, 100000 loops each)\n",
      "319 µs ± 32.8 µs per loop (mean ± std. dev. of 7 runs, 1000 loops each)\n",
      "2.28 µs ± 169 ns per loop (mean ± std. dev. of 7 runs, 100000 loops each)\n",
      "2.21 µs ± 118 ns per loop (mean ± std. dev. of 7 runs, 100000 loops each)\n",
      "size = 4096\n",
      "8.31 µs ± 158 ns per loop (mean ± std. dev. of 7 runs, 100000 loops each)\n",
      "1.2 ms ± 49.9 µs per loop (mean ± std. dev. of 7 runs, 1000 loops each)\n",
      "7.06 µs ± 59.2 ns per loop (mean ± std. dev. of 7 runs, 100000 loops each)\n",
      "7.02 µs ± 23.4 ns per loop (mean ± std. dev. of 7 runs, 100000 loops each)\n",
      "size = 16384\n",
      "18.2 µs ± 323 ns per loop (mean ± std. dev. of 7 runs, 100000 loops each)\n",
      "4.7 ms ± 149 µs per loop (mean ± std. dev. of 7 runs, 100 loops each)\n",
      "26.7 µs ± 363 ns per loop (mean ± std. dev. of 7 runs, 10000 loops each)\n",
      "26.5 µs ± 136 ns per loop (mean ± std. dev. of 7 runs, 10000 loops each)\n",
      "size = 65536\n",
      "52.9 µs ± 2.09 µs per loop (mean ± std. dev. of 7 runs, 10000 loops each)\n",
      "19.7 ms ± 670 µs per loop (mean ± std. dev. of 7 runs, 100 loops each)\n",
      "102 µs ± 950 ns per loop (mean ± std. dev. of 7 runs, 10000 loops each)\n",
      "101 µs ± 144 ns per loop (mean ± std. dev. of 7 runs, 10000 loops each)\n",
      "size = 262144\n",
      "176 µs ± 3.17 µs per loop (mean ± std. dev. of 7 runs, 10000 loops each)\n",
      "77.9 ms ± 6.35 ms per loop (mean ± std. dev. of 7 runs, 10 loops each)\n",
      "440 µs ± 4.42 µs per loop (mean ± std. dev. of 7 runs, 1000 loops each)\n",
      "457 µs ± 15.9 µs per loop (mean ± std. dev. of 7 runs, 1000 loops each)\n",
      "size = 1048576\n",
      "948 µs ± 36.6 µs per loop (mean ± std. dev. of 7 runs, 1000 loops each)\n",
      "320 ms ± 18.3 ms per loop (mean ± std. dev. of 7 runs, 1 loop each)\n",
      "1.89 ms ± 52.7 µs per loop (mean ± std. dev. of 7 runs, 1000 loops each)\n",
      "1.86 ms ± 64.7 µs per loop (mean ± std. dev. of 7 runs, 1000 loops each)\n",
      "size = 4194304\n",
      "3.51 ms ± 67.8 µs per loop (mean ± std. dev. of 7 runs, 100 loops each)\n",
      "1.22 s ± 27.5 ms per loop (mean ± std. dev. of 7 runs, 1 loop each)\n",
      "7.31 ms ± 74.7 µs per loop (mean ± std. dev. of 7 runs, 100 loops each)\n",
      "7.32 ms ± 77.5 µs per loop (mean ± std. dev. of 7 runs, 100 loops each)\n",
      "size = 16777216\n",
      "14.8 ms ± 583 µs per loop (mean ± std. dev. of 7 runs, 100 loops each)\n",
      "4.87 s ± 116 ms per loop (mean ± std. dev. of 7 runs, 1 loop each)\n",
      "29.2 ms ± 88.9 µs per loop (mean ± std. dev. of 7 runs, 10 loops each)\n",
      "29.7 ms ± 349 µs per loop (mean ± std. dev. of 7 runs, 10 loops each)\n",
      "CPU times: user 6min 4s, sys: 267 ms, total: 6min 5s\n",
      "Wall time: 6min 5s\n"
     ]
    }
   ],
   "source": [
    "%%time\n",
    "for idx, size in enumerate(sizes):\n",
    "    print(\"size =\", size)\n",
    "    data = np.random.randn(size).astype('f8')\n",
    "    res = %timeit -o np.sum(data)\n",
    "    res_numpy[idx] = res.average\n",
    "    res = %timeit -o sum1d(data)\n",
    "    res_python[idx] = res.average\n",
    "    res = %timeit -o sum1d_jit(data)\n",
    "    res_numba[idx] = res.average\n",
    "    res = %timeit -o sum1d_par(data)\n",
    "    res_numba_par[idx] = res.average\n",
    "del data"
   ]
  },
  {
   "cell_type": "markdown",
   "metadata": {
    "slideshow": {
     "slide_type": "slide"
    }
   },
   "source": [
    "## Looking at the data"
   ]
  },
  {
   "cell_type": "markdown",
   "metadata": {},
   "source": [
    "First, let's look at various speedups and slowdowns:"
   ]
  },
  {
   "cell_type": "code",
   "execution_count": 15,
   "metadata": {},
   "outputs": [
    {
     "data": {
      "text/plain": [
       "192.3750032906321"
      ]
     },
     "execution_count": 15,
     "metadata": {},
     "output_type": "execute_result"
    }
   ],
   "source": [
    "numba_vs_naive = res_python / res_numba\n",
    "numba_vs_naive.max()"
   ]
  },
  {
   "cell_type": "markdown",
   "metadata": {},
   "source": [
    "Well, it's not 200 times as Wikipedia claimed, but it's pretty much close to it."
   ]
  },
  {
   "cell_type": "code",
   "execution_count": 16,
   "metadata": {},
   "outputs": [
    {
     "data": {
      "text/plain": [
       "(0.08103373848130296, 2.505059846262734)"
      ]
     },
     "execution_count": 16,
     "metadata": {},
     "output_type": "execute_result"
    }
   ],
   "source": [
    "numba_vs_numpy = res_numba / res_numpy\n",
    "numba_vs_numpy.min(), numba_vs_numpy.max()"
   ]
  },
  {
   "cell_type": "markdown",
   "metadata": {},
   "source": [
    "Numba can be 2.5 times slower then numpy, but it can also be faster. Let's look at the graphs below."
   ]
  },
  {
   "cell_type": "code",
   "execution_count": 17,
   "metadata": {},
   "outputs": [
    {
     "data": {
      "text/plain": [
       "(0.8986877079731856, 1.0664777926145088)"
      ]
     },
     "execution_count": 17,
     "metadata": {},
     "output_type": "execute_result"
    }
   ],
   "source": [
    "numba_vs_par = res_numba / res_numba_par\n",
    "numba_vs_par.min(), numba_vs_par.max()"
   ]
  },
  {
   "cell_type": "markdown",
   "metadata": {},
   "source": [
    "Apparently, numba cannot parallelize our function -- it's too naive for that. Let's look how speedups/slowdowns change with the array size:"
   ]
  },
  {
   "cell_type": "code",
   "execution_count": 18,
   "metadata": {
    "slideshow": {
     "slide_type": "slide"
    }
   },
   "outputs": [
    {
     "data": {
      "image/png": "[encoded data removed]",
      "text/plain": [
       "<matplotlib.figure.Figure at 0x7fb4ee5e12b0>"
      ]
     },
     "metadata": {},
     "output_type": "display_data"
    }
   ],
   "source": [
    "fig, (ax1, ax2, ax3) = plt.subplots(1,3)\n",
    "\n",
    "fig.set_size_inches(16, 5)\n",
    "\n",
    "ax1.set_title('numba vs numpy')\n",
    "ax1.set_xlabel('array size')\n",
    "ax1.set_ylabel('slowdown')\n",
    "ax1.semilogx(sizes, numba_vs_numpy, basex=2);\n",
    "\n",
    "\n",
    "ax2.set_title('numba vs naive python')\n",
    "ax2.set_xlabel('array size')\n",
    "ax2.set_ylabel('slowdown')\n",
    "ax2.semilogx(sizes, numba_vs_naive, basex=2, color='b');\n",
    "\n",
    "ax3.set_title('effect of parallel=True')\n",
    "ax3.set_xlabel('array size')\n",
    "ax3.set_ylabel('speedup')\n",
    "ax3.semilogx(sizes, numba_vs_par, basex=2, color='g');"
   ]
  },
  {
   "cell_type": "code",
   "execution_count": 19,
   "metadata": {
    "slideshow": {
     "slide_type": "slide"
    }
   },
   "outputs": [
    {
     "data": {
      "image/png": "[encoded data removed]",
      "text/plain": [
       "<matplotlib.figure.Figure at 0x7fb51359b6d8>"
      ]
     },
     "metadata": {},
     "output_type": "display_data"
    }
   ],
   "source": [
    "plt.figure().set_size_inches(12, 10)\n",
    "plt.loglog(sizes, res_numba, label='numba', basex=2)\n",
    "plt.loglog(sizes, res_numba_par, label='numba parallel', basex=2)\n",
    "plt.loglog(sizes, res_numpy, label='numpy', basex=2)\n",
    "plt.loglog(sizes, res_python, label='naive python', basex=2)\n",
    "plt.xlabel(\"array size\")\n",
    "plt.ylabel(\"runtime, seconds\");\n",
    "plt.legend();"
   ]
  },
  {
   "cell_type": "markdown",
   "metadata": {
    "slideshow": {
     "slide_type": "slide"
    }
   },
   "source": [
    "The jitted version is more then 5 times faster on smaller arrays, but for larger arrays numpy becomes ~2.5 times faster then numba; they show similar performance when array sizes are about 4000."
   ]
  },
  {
   "cell_type": "markdown",
   "metadata": {
    "slideshow": {
     "slide_type": "slide"
    }
   },
   "source": [
    "## Conclusions\n",
    "\n",
    "I consider both claims of the Wikipedia article confirmed: numba brings tremendous speedup to naive python code at the const of just one decorator (and one huge additional dependency -- the numba itself `^_-`); for arrays of quite reasonable size numba can be much faster then numpy -- e.g. for size 1024 it ~2 times faster!\n",
    "\n",
    "This allows me to conclude that **numba is awesome**. Let's see how it will behave on more real-life projects of mine."
   ]
  }
 ],
 "metadata": {
  "kernelspec": {
   "display_name": "Python 3",
   "language": "python",
   "name": "python3"
  },
  "language_info": {
   "codemirror_mode": {
    "name": "ipython",
    "version": 3
   },
   "file_extension": ".py",
   "mimetype": "text/x-python",
   "name": "python",
   "nbconvert_exporter": "python",
   "pygments_lexer": "ipython3",
   "version": "3.6.4"
  }
 },
 "nbformat": 4,
 "nbformat_minor": 2
}
